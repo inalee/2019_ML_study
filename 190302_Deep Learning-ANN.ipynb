{
 "cells": [
  {
   "cell_type": "markdown",
   "metadata": {},
   "source": [
    "### Deep Learning - ANN\n",
    "\n",
    "- 뉴럴네트워크에서 말하는 input value는 x feature(관측되는 하나의 데이터가 아님 X)\n",
    "- epoch : 데이터 셋 전체(row)를 한번 돌리는 게 1 epoch 단위\n",
    "- batch : 몇번의 업데이트가 이루어지는 지.(back propogate)\n",
    "\n",
    "** 데이터 전체는 8개일때\n",
    "\n",
    "1 epoch = 8\n",
    "\n",
    "ex)\n",
    "1 epoch, batch size=8 이면 업데이트가 1번 이루어짐."
   ]
  },
  {
   "cell_type": "markdown",
   "metadata": {},
   "source": [
    "### Gradient Decsent\n",
    "\n",
    "- batch gradient decsent : 전체 row 한번 돌때 cost 계산\n",
    "- stochastic gradient decsent : 각 row 한번 돌때마다 cost 계산(mini~ : batch size 사용자가 설정)"
   ]
  },
  {
   "cell_type": "code",
   "execution_count": null,
   "metadata": {},
   "outputs": [],
   "source": []
  }
 ],
 "metadata": {
  "kernelspec": {
   "display_name": "Python 3",
   "language": "python",
   "name": "python3"
  },
  "language_info": {
   "codemirror_mode": {
    "name": "ipython",
    "version": 3
   },
   "file_extension": ".py",
   "mimetype": "text/x-python",
   "name": "python",
   "nbconvert_exporter": "python",
   "pygments_lexer": "ipython3",
   "version": "3.7.0"
  }
 },
 "nbformat": 4,
 "nbformat_minor": 2
}
